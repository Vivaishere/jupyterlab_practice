{
 "cells": [
  {
   "cell_type": "markdown",
   "id": "6bf9080d-34e0-4d3b-94d1-d99dc61ecae4",
   "metadata": {},
   "source": [
    "# Vladislav Liksutin\n",
    "Notebook for assignment 7"
   ]
  },
  {
   "cell_type": "code",
   "execution_count": 2,
   "id": "e8ab1efa-e4d8-41a0-8052-210d1773f192",
   "metadata": {},
   "outputs": [
    {
     "data": {
      "text/plain": [
       "5.0"
      ]
     },
     "execution_count": 2,
     "metadata": {},
     "output_type": "execute_result"
    }
   ],
   "source": [
    "def compute_mean(arr):\n",
    "    return sum(arr) / len(arr)\n",
    "\n",
    "compute_mean([2,4,6,8])"
   ]
  },
  {
   "cell_type": "markdown",
   "id": "16456aac-f481-4f51-a8c6-0339d1abb3da",
   "metadata": {},
   "source": [
    "\n",
    "The code above creates a function called compute_mean which takes in an array of numbers. This function computes the mean of the numbers in the array by taking the sum and dividing it by the number of values according to the following equation:\\\n",
    "\n",
    "$$\n",
    "\\bar{x} = \\dfrac{x_1 + x_2 + \\cdot\\cdot\\cdot + x_n}{n} = \\dfrac{1}{n}\\left( \\sum_{i=1}^{n}x_i\\right)\n",
    "$$"
   ]
  }
 ],
 "metadata": {
  "kernelspec": {
   "display_name": "Python 3 (ipykernel)",
   "language": "python",
   "name": "python3"
  },
  "language_info": {
   "codemirror_mode": {
    "name": "ipython",
    "version": 3
   },
   "file_extension": ".py",
   "mimetype": "text/x-python",
   "name": "python",
   "nbconvert_exporter": "python",
   "pygments_lexer": "ipython3",
   "version": "3.11.5"
  }
 },
 "nbformat": 4,
 "nbformat_minor": 5
}
